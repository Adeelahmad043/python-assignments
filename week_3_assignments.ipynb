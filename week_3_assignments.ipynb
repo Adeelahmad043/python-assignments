{
 "cells": [
  {
   "cell_type": "markdown",
   "metadata": {},
   "source": [
    "# Class for Week 3 of Python\n"
   ]
  },
  {
   "cell_type": "markdown",
   "metadata": {},
   "source": [
    "# Assignment 1\n"
   ]
  },
  {
   "cell_type": "markdown",
   "metadata": {},
   "source": [
    "Your first assignment is to write code to get input from user and store in dictionary and then store that dictionary in list. Here is the required input."
   ]
  },
  {
   "cell_type": "markdown",
   "metadata": {},
   "source": [
    "[\n",
    "    {\"name\" : \"Hamza Ali\",\n",
    "     \"age\"  : 25,\n",
    "     \"work\" : \"A.I\",\n",
    "     \"skills\" : [\"python\", \"tensorflow\", \"cloud\"],\n",
    "     \"degree\" : {\"title\" : \"BS\", \"major\" : \"computer Science\", \"completionDate\" : \"Jun 2019\"},\n",
    "     \"salary\" : 259999\n",
    "     },\n",
    "     {\"name\" : \"Farooq Aziz\",\n",
    "     \"age\"  : 27,\n",
    "     \"work\" : \"Cloud Native\",\n",
    "     \"skills\" : [\"ubuntu\", \"docker\", \"kubernetes\"],\n",
    "     \"degree\" : {\"title\" : \"MS\", \"major\" : \"Software engineer\", \"completionDate\" : \"May 2018\"},\n",
    "     \"salary\" : 200000\n",
    "     },\n",
    "     {\"name\" : \"Abu Bakr\",\n",
    "     \"age\"  : 30,\n",
    "     \"work\" : \"Blockchain\",\n",
    "     \"skills\" : [\"python\", \"Cryptography\", \"Ethereum\"],\n",
    "     \"degree\" : {\"title\" : \"BS\", \"major\" : \"computer Science\", \"completionDate\" : \"May 2019\"},\n",
    "     \"salary\" : 300000\n",
    "     }\n",
    "]"
   ]
  },
  {
   "cell_type": "code",
   "execution_count": null,
   "metadata": {},
   "outputs": [],
   "source": [
    "# data = {\"Name\":\"\",\n",
    "         \"Age\":\"\",\n",
    "         \"Work\" :\"\",\n",
    "         \"Skills\":[],\n",
    "         \"Degree\" : {\"Title\":\"\",\"Major\":\"\",},\n",
    "         \"Salary\" : \"\",\n",
    "        }\n",
    "new_data = []\n",
    "n = 1\n",
    "nu = -1\n",
    "while n == 1:\n",
    "    new_data.append(data)\n",
    "    for i in data:\n",
    "        if 'Skills' == data[i]:\n",
    "            print(f\"Enter your {data[i].append(input(i))} ::\")\n",
    "        if \"Degree\"== i: \n",
    "            print(f\"What is your last {i} ::\" ) \n",
    "            for j in new_data[nu][i]:\n",
    "                new_data[nu][i][j] = input(f\"\\t{j}\")\n",
    "            continue\n",
    "        new_data[nu][i]=input(f\"Enter your {i} ::\")\n",
    "\n",
    "        \n",
    "    ex =input(\"Add new data then press \\\"y\\\"\\nif you want exit then enter \\\"E\\\"\")\n",
    "    if ex.upper() == \"Y\":\n",
    "        n = 1\n",
    "    else:\n",
    "        print(\"\\n\")\n",
    "        for p in new_data:\n",
    "            nu+=1\n",
    "            print(\"Serial Num#\"+str(nu)+\":\")\n",
    "            for key,value in data.items():\n",
    "                if key == data[\"Degree\"]:\n",
    "                    for k,v in new_data[0][i].items():\n",
    "                        print({key}+ \" :: \"+ {value})\n",
    "                print(key,value)\n",
    "        n = 0"
   ]
  },
  {
   "cell_type": "markdown",
   "metadata": {},
   "source": [
    "# Assignment 2"
   ]
  },
  {
   "cell_type": "markdown",
   "metadata": {},
   "source": [
    "Take input from user and print table in that range. Suppose user input 5 and 10. Then print table of 5,6,7,8,9,10\n",
    "\n",
    "And ouput should be as follows"
   ]
  },
  {
   "cell_type": "code",
   "execution_count": 68,
   "metadata": {},
   "outputs": [
    {
     "name": "stdout",
     "output_type": "stream",
     "text": [
      "Enter starting  point :2\n",
      "Enter ending  point :2\n",
      "2 * 1 = 2\n",
      "2 * 2 = 4\n",
      "2 * 3 = 6\n",
      "2 * 4 = 8\n",
      "2 * 5 = 10\n",
      "2 * 6 = 12\n",
      "2 * 7 = 14\n",
      "2 * 8 = 16\n",
      "2 * 9 = 18\n",
      "2 * 10 = 20\n",
      "\n",
      "\n"
     ]
    }
   ],
   "source": [
    "start = int(input(\"Enter starting  point :\"))\n",
    "end = int(input(\"Enter ending  point :\"))\n",
    "for j in range(start,end+1):\n",
    "    for i in range(1,11):\n",
    "        print(f\"{j} * {i} = {i*j}\")\n",
    "    print(\"\\n\")"
   ]
  },
  {
   "cell_type": "code",
   "execution_count": 70,
   "metadata": {},
   "outputs": [
    {
     "name": "stdout",
     "output_type": "stream",
     "text": [
      "Enter starting ane ending potin separated by comma ',' :5,10\n",
      "5 * 1 = 5\t6 * 1 = 6\t7 * 1 = 7\t8 * 1 = 8\t9 * 1 = 9\t10 * 1 = 10\t \n",
      "5 * 2 = 10\t6 * 2 = 12\t7 * 2 = 14\t8 * 2 = 16\t9 * 2 = 18\t10 * 2 = 20\t \n",
      "5 * 3 = 15\t6 * 3 = 18\t7 * 3 = 21\t8 * 3 = 24\t9 * 3 = 27\t10 * 3 = 30\t \n",
      "5 * 4 = 20\t6 * 4 = 24\t7 * 4 = 28\t8 * 4 = 32\t9 * 4 = 36\t10 * 4 = 40\t \n",
      "5 * 5 = 25\t6 * 5 = 30\t7 * 5 = 35\t8 * 5 = 40\t9 * 5 = 45\t10 * 5 = 50\t \n",
      "5 * 6 = 30\t6 * 6 = 36\t7 * 6 = 42\t8 * 6 = 48\t9 * 6 = 54\t10 * 6 = 60\t \n",
      "5 * 7 = 35\t6 * 7 = 42\t7 * 7 = 49\t8 * 7 = 56\t9 * 7 = 63\t10 * 7 = 70\t \n",
      "5 * 8 = 40\t6 * 8 = 48\t7 * 8 = 56\t8 * 8 = 64\t9 * 8 = 72\t10 * 8 = 80\t \n",
      "5 * 9 = 45\t6 * 9 = 54\t7 * 9 = 63\t8 * 9 = 72\t9 * 9 = 81\t10 * 9 = 90\t \n",
      "5 * 10 = 50\t6 * 10 = 60\t7 * 10 = 70\t8 * 10 = 80\t9 * 10 = 90\t10 * 10 = 100\t \n"
     ]
    }
   ],
   "source": [
    "star,ending = input(\"Enter starting ane ending potin separated by comma \\',\\' :\").split(\",\")\n",
    "star,ending = int(star),int(ending)\n",
    "for i in range(1,11):\n",
    "    for j in range(star,ending+1):\n",
    "        print(f\"{j} * {i} = {i*j}\",end =\"\\t\")\n",
    "    print(\" \")"
   ]
  }
 ],
 "metadata": {
  "kernelspec": {
   "display_name": "Python 3",
   "language": "python",
   "name": "python3"
  },
  "language_info": {
   "codemirror_mode": {
    "name": "ipython",
    "version": 3
   },
   "file_extension": ".py",
   "mimetype": "text/x-python",
   "name": "python",
   "nbconvert_exporter": "python",
   "pygments_lexer": "ipython3",
   "version": "3.7.4"
  }
 },
 "nbformat": 4,
 "nbformat_minor": 2
}
